{
  "nbformat": 4,
  "nbformat_minor": 0,
  "metadata": {
    "colab": {
      "name": "pos_tagging.ipynb",
      "provenance": []
    },
    "kernelspec": {
      "name": "python3",
      "display_name": "Python 3"
    }
  },
  "cells": [
    {
      "cell_type": "code",
      "metadata": {
        "id": "kW_wr0jGLqvs",
        "colab_type": "code",
        "colab": {}
      },
      "source": [
        "import spacy\n",
        "import random\n",
        "TRAIN_DATA = [\n",
        "    (\"Facebook has been accused for leaking personal data of users.\", {'entities': [(0, 8, 'ORG')]}),\n",
        "    (\"Tinder uses sophisticated algorithms to find the perfect match.\",{'entities': [(0, 6, \"ORG\")]})\n",
        "    ]\n",
        "\n",
        "nlp = spacy.blank('en')\n",
        "optimizer = nlp.begin_training()\n"
      ],
      "execution_count": 4,
      "outputs": []
    },
    {
      "cell_type": "code",
      "metadata": {
        "id": "SvM40blZacZT",
        "colab_type": "code",
        "colab": {}
      },
      "source": [
        "for i in range(20):\n",
        "\trandom.shuffle(TRAIN_DATA)\n",
        "\tfor text, annotation in TRAIN_DATA:\n",
        "\t\tnlp.update([text], [annotation], sgd=optimizer)\n",
        "nlp.to_disk('/content')"
      ],
      "execution_count": 6,
      "outputs": []
    },
    {
      "cell_type": "code",
      "metadata": {
        "id": "fN9hJc1AanDd",
        "colab_type": "code",
        "colab": {}
      },
      "source": [
        "#A simple example for training a part-of-speech tagger with a custom tag map.\n",
        "\n",
        "\n",
        "import plac\n",
        "import random\n",
        "import spacy\n",
        "from spacy.util import minibatch, compounding\n",
        "from pathlib import Path"
      ],
      "execution_count": 7,
      "outputs": []
    },
    {
      "cell_type": "code",
      "metadata": {
        "id": "nBTzvjmEfJPQ",
        "colab_type": "code",
        "colab": {}
      },
      "source": [
        "TAG_MAP = {\"N\": {\"pos\": \"NOUN\"}, \"V\": {\"pos\": \"VERB\"}, \"J\": {\"pos\": \"ADJ\"}}\n",
        "#or\n",
        "#it can be in the below formate\n",
        "#(\"Eatblueham\", {'words': ['Eat', 'blue', 'ham'], 'tags': ['V', 'J', 'N']})"
      ],
      "execution_count": 9,
      "outputs": []
    },
    {
      "cell_type": "code",
      "metadata": {
        "id": "J0cfa0LXfMts",
        "colab_type": "code",
        "colab": {}
      },
      "source": [
        "TRAIN_DATA = [\n",
        "    (\"I like green eggs\", {\"tags\": [\"N\", \"V\", \"J\", \"N\"]}),\n",
        "    (\"Eat blue ham\", {\"tags\": [\"V\", \"J\", \"N\"]}),\n",
        "]"
      ],
      "execution_count": 10,
      "outputs": []
    },
    {
      "cell_type": "code",
      "metadata": {
        "id": "0B31rHd2f4yM",
        "colab_type": "code",
        "colab": {
          "base_uri": "https://localhost:8080/",
          "height": 34
        },
        "outputId": "c7f43e55-7e0a-47c8-c7b0-ff564d87a9a8"
      },
      "source": [
        "plac.annotations( lang=(\"ISO Code of language to use\", \"option\", \"l\", str),\n",
        "              output_dir=(\"Optional output directory\", \"option\", \"o\", Path), \n",
        "              n_iter=(\"Number of training iterations\", \"option\", \"n\", int),\n",
        "              )"
      ],
      "execution_count": 25,
      "outputs": [
        {
          "output_type": "execute_result",
          "data": {
            "text/plain": [
              "<function plac_core.annotations.<locals>.annotate>"
            ]
          },
          "metadata": {
            "tags": []
          },
          "execution_count": 25
        }
      ]
    },
    {
      "cell_type": "code",
      "metadata": {
        "id": "GQRiIy2WmlJZ",
        "colab_type": "code",
        "colab": {}
      },
      "source": [
        "def main(lang=\"en\", output_dir=None, n_iter=25):\n",
        "    \"\"\"Create a new model, set up the pipeline and train the tagger. In order to\n",
        "    train the tagger with a custom tag map, we're creating a new Language\n",
        "    instance with a custom vocab.\n",
        "    \"\"\"\n",
        "    nlp=spacy.blank(lang)\n",
        "    tagger = nlp.create_pipe(\"tagger\")\n",
        "\n",
        "    for tag,values in TAG_MAP.items():\n",
        "      tagger.add_label(tag,values)\n",
        "    \n",
        "    nlp.add_pipe(tagger)\n",
        "    optimizer = nlp.begin_training()\n",
        "\n",
        "\n",
        "    for i in range(n_iter):\n",
        "      random.shuffle(TRAIN_DATA)\n",
        "      losses = {}\n",
        "\n",
        "      batches = minibatch(TRAIN_DATA, size=compounding(4.0, 32.0, 1.001))\n",
        "      for batch in batches:\n",
        "        texts,annotations = zip(*batch)\n",
        "        nlp.update(texts, annotations,sgd=optimizer,losses=losses)\n",
        "      print('looses', losses)\n",
        "\n",
        "    test_text = \"I like blue eggs\"\n",
        "    doc = nlp(test_text)\n",
        "    print(\"Tags\", [(t.text, t.tag_, t.pos_) for t in doc])\n",
        "\n",
        "    if output_dir is not None:\n",
        "      output_dir =  path(output_dir)\n",
        "      if not output_dir.exists():\n",
        "        output_dir.mkdir()\n",
        "      nlp.to_disk(output_dir)\n",
        "      print(\"Saved model to\", output_dir)\n",
        "\n",
        "      # test the save model\n",
        "      print(\"Loading from\", output_dir)\n",
        "      nlp2 = spacy.load(output_dir)\n",
        "      doc = nlp2(test_text)\n",
        "      print(\"Tags\", [(t.text, t.tag_, t.pos_) for t in doc])"
      ],
      "execution_count": 44,
      "outputs": []
    },
    {
      "cell_type": "code",
      "metadata": {
        "id": "boU68j3am11G",
        "colab_type": "code",
        "colab": {
          "base_uri": "https://localhost:8080/",
          "height": 513
        },
        "outputId": "b1271e26-927b-4e2d-d2b6-abd9d0050d3d"
      },
      "source": [
        "if __name__ == \"__main__\":\n",
        "    #plac.call(main)\n",
        "    main()"
      ],
      "execution_count": 45,
      "outputs": [
        {
          "output_type": "stream",
          "text": [
            "/usr/lib/python3.6/runpy.py:193: UserWarning: [W022] Training a new part-of-speech tagger using a model with no lemmatization rules or data. This means that the trained model may not be able to lemmatize correctly. If this is intentional or the language you're using doesn't have lemmatization data, you can ignore this warning by setting SPACY_WARNING_IGNORE=W022. If this is surprising, make sure you have the spacy-lookups-data package installed.\n",
            "  \"__main__\", mod_spec)\n"
          ],
          "name": "stderr"
        },
        {
          "output_type": "stream",
          "text": [
            "looses {'tagger': 6.883332252502441}\n",
            "looses {'tagger': 6.835843086242676}\n",
            "looses {'tagger': 6.685646057128906}\n",
            "looses {'tagger': 6.38253116607666}\n",
            "looses {'tagger': 5.830503463745117}\n",
            "looses {'tagger': 4.940542221069336}\n",
            "looses {'tagger': 3.8143503665924072}\n",
            "looses {'tagger': 2.6712522506713867}\n",
            "looses {'tagger': 1.645768642425537}\n",
            "looses {'tagger': 0.8605381846427917}\n",
            "looses {'tagger': 0.3807932436466217}\n",
            "looses {'tagger': 0.15221552550792694}\n",
            "looses {'tagger': 0.05709473043680191}\n",
            "looses {'tagger': 0.020614877343177795}\n",
            "looses {'tagger': 0.0072023263201117516}\n",
            "looses {'tagger': 0.0024954171385616064}\n",
            "looses {'tagger': 0.0008693357813172042}\n",
            "looses {'tagger': 0.00030711828731000423}\n",
            "looses {'tagger': 0.00010984686377923936}\n",
            "looses {'tagger': 4.0378774428972974e-05}\n",
            "looses {'tagger': 1.5559327948722057e-05}\n",
            "looses {'tagger': 6.347153430397157e-06}\n",
            "looses {'tagger': 2.7576165848586243e-06}\n",
            "looses {'tagger': 1.2761089465129771e-06}\n",
            "looses {'tagger': 6.28177986072842e-07}\n",
            "Tags [('I', 'N', 'NOUN'), ('like', 'V', 'VERB'), ('blue', 'J', 'ADJ'), ('eggs', 'N', 'NOUN')]\n"
          ],
          "name": "stdout"
        }
      ]
    },
    {
      "cell_type": "code",
      "metadata": {
        "id": "b9mIN80ZpOFT",
        "colab_type": "code",
        "colab": {}
      },
      "source": [
        ""
      ],
      "execution_count": null,
      "outputs": []
    }
  ]
}